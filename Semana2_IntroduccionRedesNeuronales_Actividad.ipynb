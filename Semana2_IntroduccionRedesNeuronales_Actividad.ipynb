{
  "nbformat": 4,
  "nbformat_minor": 0,
  "metadata": {
    "kernelspec": {
      "display_name": "Python 3",
      "language": "python",
      "name": "python3"
    },
    "language_info": {
      "codemirror_mode": {
        "name": "ipython",
        "version": 3
      },
      "file_extension": ".py",
      "mimetype": "text/x-python",
      "name": "python",
      "nbconvert_exporter": "python",
      "pygments_lexer": "ipython3",
      "version": "3.7.3"
    },
    "colab": {
      "name": "Semana2_IntroduccionRedesNeuronales_Actividad.ipynb",
      "provenance": []
    }
  },
  "cells": [
    {
      "cell_type": "markdown",
      "metadata": {
        "id": "Xrf3zBXkba_N",
        "colab_type": "text"
      },
      "source": [
        "## MIIA-4203 MODELOS AVANZADOS PARA ANÁLISIS DE DATOS II\n",
        "\n",
        "\n",
        "# Introducción a las redes neuronales\n",
        "\n",
        "## Actividad 2\n",
        "\n",
        "### Profesor: Camilo Franco (c.franco31@uniandes.edu.co)\n",
        "\n",
        "\n",
        "\n",
        "En esta actividad vamos a estudiar una primera aproximación a los modelos de redes neuronales, utilizando como base el modelo de regresión logística.\n"
      ]
    },
    {
      "cell_type": "markdown",
      "metadata": {
        "id": "Rn_tEy5EwppJ",
        "colab_type": "text"
      },
      "source": [
        "**Presentado por:**\n",
        "\n",
        "* *Alexander Camargo Cód. 200911325*\n",
        "* *Wilson González Cód. 200924943* "
      ]
    },
    {
      "cell_type": "code",
      "metadata": {
        "id": "Czqb1yhVba_O",
        "colab_type": "code",
        "colab": {}
      },
      "source": [
        "# Algunos paquetes iniciales que vamos a utilizar\n",
        "import pandas as pd\n",
        "import numpy as np \n",
        "import matplotlib\n",
        "import matplotlib.pyplot as plt\n",
        "from sklearn.linear_model import LogisticRegression\n",
        "from sklearn import model_selection"
      ],
      "execution_count": null,
      "outputs": []
    },
    {
      "cell_type": "markdown",
      "metadata": {
        "id": "vfEAmCwJba_R",
        "colab_type": "text"
      },
      "source": [
        "## 1. Problema de clasificación: riesgo de default\n",
        "\n",
        "Examinemos los datos con lo cuales ya estamos familiarizados:\n"
      ]
    },
    {
      "cell_type": "markdown",
      "metadata": {
        "id": "FV14KV7Tba_S",
        "colab_type": "text"
      },
      "source": [
        "https://archive.ics.uci.edu/ml/datasets/statlog+(german+credit+data)"
      ]
    },
    {
      "cell_type": "code",
      "metadata": {
        "id": "NjF-HTrGba_S",
        "colab_type": "code",
        "colab": {}
      },
      "source": [
        "credit_1 = pd.read_csv(\"germancredit.csv\")\n",
        "credit_1 = pd.get_dummies(credit_1, columns=['checkingstatus1','history','purpose','savings',\n",
        "                                   'employ','status','others','property','otherplans','housing','job','tele', \n",
        "                                   'foreign'], prefix = ['checkingstatus1','history','purpose','savings',\n",
        "                                   'employ','status','others','property','otherplans','housing','job','tele', \n",
        "                                   'foreign'])\n",
        "X = credit_1.iloc[:, 1:62]\n",
        "Y = credit_1.iloc[:, 0]\n"
      ],
      "execution_count": null,
      "outputs": []
    },
    {
      "cell_type": "code",
      "metadata": {
        "id": "fdJDJd2Jba_U",
        "colab_type": "code",
        "colab": {
          "base_uri": "https://localhost:8080/",
          "height": 51
        },
        "outputId": "208ba654-1de8-4126-8ba4-42a030eb13ae"
      },
      "source": [
        "CE_x, CP_x, CE_y, CP_y = model_selection.train_test_split(X, Y, test_size=0.4, random_state=42, stratify=Y)\n",
        "print(\"Tamaño de CE, CP: \", CE_y.shape, CP_y.shape)\n",
        "print(\"Observaciones de la clase positiva en entrenamiento: \" +str(sum(CE_y)) +\" y en prueba: \" +str(sum(CP_y)))"
      ],
      "execution_count": null,
      "outputs": [
        {
          "output_type": "stream",
          "text": [
            "Tamaño de CE, CP:  (600,) (400,)\n",
            "Observaciones de la clase positiva en entrenamiento: 180 y en prueba: 120\n"
          ],
          "name": "stdout"
        }
      ]
    },
    {
      "cell_type": "markdown",
      "metadata": {
        "id": "x5VlPl-dba_X",
        "colab_type": "text"
      },
      "source": [
        "## 2. Construcción de una neurona Sigmoide\n",
        "\n",
        "Una neurona Sigmoide puede ser vista como un perceptrón *suavizado* que recibe una señal y entonces se activa. Al activarse, transforma la señal para entender mejor el mensaje. Esta transformación la ejecuta a partir de la fucnión Sigmoide.\n",
        "\n",
        "Si tomamos la señal como un conjunto de datos de entrada y el mensaje como la predicción de un valor, la función de activación jugará el papel de transformadora de los datos de entrada en aquello que se quiere entender/predecir, que además replica un modelo logit con la función de activación sigmoide.\n",
        "\n",
        "A continuación construiremos un clasificador de regresión logística bajo la perspectiva de una red neuronal, estudiando la arquitectura general de un algoritmo de aprendizaje. De esta manera, necesitaremos incluir la inicialización de los parámetros, el cálculo de la función de coste y su gradiente, y utilizar un algoritmo de optimización como por ejemplo el descenso en la dirección del gradiente (GD)\n",
        "\n",
        "**Formulación del algoritmo**:\n",
        "\n",
        "Para un ejemplo $x^{(i)}$:\n",
        "$$z^{(i)} = w^T x^{(i)} + b \\tag{1}$$\n",
        "$$\\hat{y}^{(i)} = a^{(i)} = sigmoide(z^{(i)})\\tag{2}$$ \n",
        "$$ \\mathcal{L}(a^{(i)}, y^{(i)}) =  - y^{(i)}  \\log(a^{(i)}) - (1-y^{(i)} )  \\log(1-a^{(i)})\\tag{3}$$\n",
        "\n",
        "El coste se calcula sumando sobre todos los ejemplos de entrenamiento:\n",
        "$$ L = \\frac{1}{m} \\sum_{i=1}^m \\mathcal{L}(a^{(i)}, y^{(i)})\\tag{4}$$\n",
        "\n"
      ]
    },
    {
      "cell_type": "markdown",
      "metadata": {
        "id": "1g8BZVziba_X",
        "colab_type": "text"
      },
      "source": [
        "### Construimos las partes del algoritmo  \n",
        "\n",
        "- Inicializar los parámetros del modelo\n",
        "- Bucle:\n",
        "    - Calcular la pérdida actual (propagación hacia delante)\n",
        "    - Calcular el gradiente actual (retro-propagación)\n",
        "    - Actualizar los parámetros (descenso en la dirección del gradiente)\n",
        "\n",
        "\n",
        "### Ejercicio 2.1\n",
        "Implemente la funcion `sigmoide()` $$\\sigma( w^T x + b) = \\frac{1}{1 + e^{-(w^T x + b)}}$$ Para ello puede utilizar np.exp()."
      ]
    },
    {
      "cell_type": "code",
      "metadata": {
        "id": "sDab_rBNba_Y",
        "colab_type": "code",
        "colab": {}
      },
      "source": [
        "def sigmoide(z):\n",
        "    \"\"\"\n",
        "    Input:\n",
        "    z: Un escalar o arreglo numpy de cualquier tamaño\n",
        "    Output:\n",
        "    s: sigmoid(z)\n",
        "    \"\"\"\n",
        "\n",
        "    s = 1/(1+np.exp(-z))\n",
        "    \n",
        "    return s"
      ],
      "execution_count": null,
      "outputs": []
    },
    {
      "cell_type": "code",
      "metadata": {
        "id": "zAzO9F5kba_a",
        "colab_type": "code",
        "colab": {
          "base_uri": "https://localhost:8080/",
          "height": 51
        },
        "outputId": "52a18d16-e26c-4026-a5df-2973fea9ade4"
      },
      "source": [
        "print (\"sigmoide([99,1,0,-1,-99]) = \" + str(sigmoide(np.array([99,1,0,-1,-99]))))"
      ],
      "execution_count": null,
      "outputs": [
        {
          "output_type": "stream",
          "text": [
            "sigmoide([99,1,0,-1,-99]) = [1.00000000e+00 7.31058579e-01 5.00000000e-01 2.68941421e-01\n",
            " 1.01122149e-43]\n"
          ],
          "name": "stdout"
        }
      ]
    },
    {
      "cell_type": "markdown",
      "metadata": {
        "id": "htTI2OK-ba_c",
        "colab_type": "text"
      },
      "source": [
        "**Salida esperada**: \n",
        "\n",
        "<table>\n",
        "<tr>\n",
        "<td> sigmoide([99,1,0,-1,-99])    = </td>\n",
        "<td> [ 1.00000000e+00 7.31058579e-01 5.00000000e-01 2.68941421e-01\n",
        " 1.01122149e-43] </td> \n",
        "</tr>\n",
        "</table>"
      ]
    },
    {
      "cell_type": "markdown",
      "metadata": {
        "id": "s9uiYc6Bba_d",
        "colab_type": "text"
      },
      "source": [
        "### Ejercicio 2.2 \n",
        "\n",
        "Debemos inicializar los parámetros a cero. Puede utilizar la funcion np.zeros(), apoyandose en la documentación de la biblioteca Numpy."
      ]
    },
    {
      "cell_type": "code",
      "metadata": {
        "id": "CbswxwSHba_d",
        "colab_type": "code",
        "colab": {}
      },
      "source": [
        "def inicializa_ceros(dim):\n",
        "    \"\"\"\n",
        "    Esta función crea un vector de ceros de dimensión (dim, 1) para w e inicializa b a 0.\n",
        "    Input:\n",
        "    dim: tamaño del vector w (número de parámetros para este caso)\n",
        "    Output:\n",
        "    w: vector inicializado de tamaño (dim, 1)\n",
        "    b: escalar inicializado (corresponde con el sesgo)\n",
        "    \"\"\"\n",
        "    \n",
        "    w = np.zeros([dim,1])"
      ],
      "execution_count": null,
      "outputs": []
    },
    {
      "cell_type": "code",
      "metadata": {
        "id": "rdmUbMnPba_g",
        "colab_type": "code",
        "colab": {
          "base_uri": "https://localhost:8080/",
          "height": 136
        },
        "outputId": "25c0850b-823e-406a-aa35-9e939143f8b2"
      },
      "source": [
        "dim = 6\n",
        "w, b = inicializa_ceros(dim)\n",
        "print (\"w = \" + str(w))\n",
        "print (\"b = \" + str(b))"
      ],
      "execution_count": null,
      "outputs": [
        {
          "output_type": "stream",
          "text": [
            "w = [[0.]\n",
            " [0.]\n",
            " [0.]\n",
            " [0.]\n",
            " [0.]\n",
            " [0.]]\n",
            "b = 0\n"
          ],
          "name": "stdout"
        }
      ]
    },
    {
      "cell_type": "markdown",
      "metadata": {
        "id": "zc8VUocmba_i",
        "colab_type": "text"
      },
      "source": [
        "**Salida esperada**: \n",
        "\n",
        "\n",
        "<table style=\"width:35%\">\n",
        "<tr>\n",
        "<td>   w   </td>\n",
        "<td> [[0.]\n",
        " [0.]\n",
        " [0.]\n",
        " [0.]\n",
        " [0.]\n",
        " [0.]] </td>\n",
        "</tr>\n",
        "<tr>\n",
        "<td>   b   </td>\n",
        "<td> 0 </td>\n",
        "</tr>\n",
        "</table>"
      ]
    },
    {
      "cell_type": "markdown",
      "metadata": {
        "id": "WScudToLba_j",
        "colab_type": "text"
      },
      "source": [
        "### Ejercicio 2.3 \n",
        "#### Propagación hacia delante y hacia atrás\n",
        "\n",
        "Una vez los estimadores están inicializados, se pueden implementar los pasos de propagación hacia \"delante\" y hacia \"atrás\" para el aprendizaje automático. \n",
        "\n",
        "La propagación hacia delante consiste en calcular la función de activación sigmoide sobre la combinacón lineal de los patrones y los coeficientes inciales. \n",
        "\n",
        "Luego la propagación hacia atrás, o *retro-propagación*, es el paso más importante, donde utilizamos el gradiente de la función del error o de pérdida para actualizar los coeficientes. \n",
        "\n",
        "Este procedimiento se repite iterativamente replicando el procediemiento de descenso en la dirección del gradiente o *Gradient Descent* (GD).\n",
        "\n",
        "A continuación implemente la función `propaga()` que calcula la función de coste y su gradiente.\n",
        "\n",
        "**Ayuda**:\n",
        "\n",
        "Propagación hacia delante:\n",
        "- Se tiene $X$\n",
        "- Se calcula $A = \\sigma(w^T X + b) = (a^{(1)}, a^{(2)}, ..., a^{(m-1)}, a^{(m)})$\n",
        "- Se calcula la función de coste/pérdida: $L = -\\frac{1}{m}\\sum_{i=1}^{m}y^{(i)}\\log(a^{(i)})+(1-y^{(i)})\\log(1-a^{(i)})$\n",
        "\n",
        "Para la retro-propagación, tenemos que calcular la derivada parcial de *L* con respecto a nuestros coeficientes $(w,b)$:  \n",
        "\n",
        "$$ \\frac{\\partial L}{\\partial w} = \\frac{1}{m}X(A-Y)^T\\tag{5}$$\n",
        "$$ \\frac{\\partial L}{\\partial b} = \\frac{1}{m} \\sum_{i=1}^m (a^{(i)}-y^{(i)})\\tag{6}$$\n",
        "\n",
        "*Nota:* Para el cálculo de estas derivadas debemos hacer uso de la regla de la cadena. \n",
        "\n",
        "Esto es, dado $Z=w^T X + b$, se tiene que $$\\frac{\\partial L}{\\partial Z} = \\frac{\\partial L}{\\partial A} \\frac{\\partial A}{\\partial Z} = \\bigg(\\frac{-Y}{A}+\\frac{1-Y}{1-A}\\bigg) (A \\cdot (1-A)) $$\n"
      ]
    },
    {
      "cell_type": "code",
      "metadata": {
        "id": "DD_mXMGpba_j",
        "colab_type": "code",
        "colab": {}
      },
      "source": [
        "def propaga(w, b, X, Y):\n",
        "    \"\"\"\n",
        "    Implemente la función de coste y su gradiente para la propagación\n",
        "    Input:\n",
        "    w: pesos, un arreglo numpy \n",
        "    b: sesgo, un escalar\n",
        "    X: datos de entrada\n",
        "    Y: vector de etiquetas \n",
        "    Output:\n",
        "    coste: coste negativo de log-verosimilitud para la regresión logística\n",
        "    dw: gradiente de la pérdida con respecto a w, con las mismas dimensiones que w\n",
        "    db: gradiente de la pérdida con respecto a b, con las mismas dimensiones que b\n",
        "    \n",
        "    (Sugerencia: utilice las funciones np.log(), np.dot()\n",
        "    \"\"\"\n",
        "    \n",
        "    m = X.shape[1]\n",
        "    \n",
        "    A = sigmoide(np.dot(w.T, X) + b)                    # compute la activación\n",
        "    coste = -(1/m)*np.sum(Y*np.log(A)+(1-Y)*np.log(1-A))                # compute el coste\n",
        "\n",
        "    dw = (1/m)*np.dot(X,(A-Y).T) \n",
        "    db = (1/m)*np.sum(A-Y)\n",
        "\n",
        "    assert(dw.shape == w.shape)\n",
        "    assert(db.dtype == float)\n",
        "    coste = np.squeeze(coste)\n",
        "    assert(coste.shape == ())\n",
        "    \n",
        "    grads = {\"dw\": dw,\n",
        "             \"db\": db}\n",
        "    \n",
        "    return grads, coste"
      ],
      "execution_count": null,
      "outputs": []
    },
    {
      "cell_type": "code",
      "metadata": {
        "id": "OnTx1W89ba_m",
        "colab_type": "code",
        "colab": {
          "base_uri": "https://localhost:8080/",
          "height": 85
        },
        "outputId": "546c1fbf-9c48-4a1a-d28a-09026339e478"
      },
      "source": [
        "w, b, X, Y = np.array([[0.1],[0.1]]), 0.5, np.array([[66.,99.,-33.],[32.,55.,-2.1]]), np.array([[0,0,1]])\n",
        "grads, coste = propaga(w, b, X, Y)\n",
        "print (\"dw = \" + str(grads[\"dw\"]))\n",
        "print (\"db = \" + str(grads[\"db\"]))\n",
        "print (\"coste = \" + str(coste))"
      ],
      "execution_count": null,
      "outputs": [
        {
          "output_type": "stream",
          "text": [
            "dw = [[65.48251839]\n",
            " [29.66675568]]\n",
            "db = 0.348980796447886\n",
            "coste = 9.752716367426284\n"
          ],
          "name": "stdout"
        }
      ]
    },
    {
      "cell_type": "markdown",
      "metadata": {
        "id": "_PADBMC4ba_o",
        "colab_type": "text"
      },
      "source": [
        "**Salida esperada**: \n",
        "\n",
        "<table style=\"width:50%\">\n",
        "<tr>\n",
        "<td>   dw   </td>\n",
        "<td> [[65.48251839]\n",
        " [29.66675568]]</td>\n",
        "</tr>\n",
        "<tr>\n",
        "<td>   db   </td>\n",
        "<td> 0.348980796447886 </td>\n",
        "</tr>\n",
        "<tr>\n",
        "<td>   cost   </td>\n",
        "<td> 9.752716367426284 </td>\n",
        "</tr>\n",
        "</table>"
      ]
    },
    {
      "cell_type": "markdown",
      "metadata": {
        "id": "vhhEyuBTba_o",
        "colab_type": "text"
      },
      "source": [
        "### Ejercicio 2.4 \n",
        "#### Optimización\n",
        "\n",
        "- Se tienen los parámetros inicializados.\n",
        "- También se tiene el código para calcular la función de coste y su gradiente.\n",
        "- Ahora se quieren actualizar los parámetros utilizando el GD.\n",
        "\n",
        "Escriba la función de optimización para aprender $w$ y $b$ minimizando la función de coste $L$. \n",
        "\n",
        "Para un parámetro $\\theta$, la regla de actualización es $ \\theta = \\theta - \\alpha \\text{ } d\\theta$, donde $\\alpha$ es la tasa de aprendizaje."
      ]
    },
    {
      "cell_type": "code",
      "metadata": {
        "id": "3NzzgRnKba_p",
        "colab_type": "code",
        "colab": {}
      },
      "source": [
        "def optimiza(w, b, X, Y, num_iter, tasa, print_cost):\n",
        "    \"\"\"\n",
        "    Esta función optimiza w y b implementando el algoritmo de GD\n",
        "    Input:\n",
        "    w: pesos, un arreglo numpy \n",
        "    b: sesgo, un escalar\n",
        "    X: datos de entrada\n",
        "    Y: vector de etiquetas \n",
        "    num_iter: número de iteracionespara el bucle de optimización\n",
        "    tasa: tasa de aprendizaje para la regla de actualización del GD\n",
        "    print_cost: True para imprimir la pérdida cada 100 iteraciones\n",
        "    Output:\n",
        "    params: diccionario con los pesos w y el sesgo b\n",
        "    grads: diccionario con los gradientes de los pesos y el sesgo con respecto a la función de pérdida\n",
        "    costes: lista de todos los costes calculados durante la optimización, usados para graficar la curva de aprendizaje.\n",
        "    \n",
        "    Sugerencia: puede escribir dos pasos e iterar sobre ellos:\n",
        "        1) Calcule el coste y el gradiente de los parámetros actuales. Use propaga().\n",
        "        2) Actualize los parámetros usando la regla del GD para w y b.\n",
        "    \"\"\"\n",
        "    \n",
        "    costes = []\n",
        "    \n",
        "    for i in range(num_iter):\n",
        "        \n",
        "        \n",
        "        # Computación del coste y el gradiente \n",
        "        grads, coste = propaga(w, b, X, Y)\n",
        "        \n",
        "        # Recupere las derivadas de grads\n",
        "        dw = grads[\"dw\"]\n",
        "        db = grads[\"db\"]\n",
        "        \n",
        "        # Actualize la regla \n",
        "        w = w - tasa * dw\n",
        "        b = b - tasa * db\n",
        "        \n",
        "        # Guarde los costes\n",
        "        if i % 100 == 0:\n",
        "            costes.append(coste)\n",
        "        \n",
        "        # Se muestra el coste cada 100 iteraciones de entrenamiento\n",
        "        if print_cost and i % 100 == 0:\n",
        "            print (\"Coste tras la iteración %i: %f\" %(i, coste))\n",
        "    \n",
        "    params = {\"w\": w,\n",
        "              \"b\": b}\n",
        "    \n",
        "    grads = {\"dw\": dw,\n",
        "             \"db\": db}\n",
        "    \n",
        "    return params, grads, costes"
      ],
      "execution_count": null,
      "outputs": []
    },
    {
      "cell_type": "code",
      "metadata": {
        "id": "VCgNxQURba_s",
        "colab_type": "code",
        "colab": {
          "base_uri": "https://localhost:8080/",
          "height": 119
        },
        "outputId": "6502fb48-db6a-40ad-b182-df2ae5dcec2c"
      },
      "source": [
        "params, grads, costes = optimiza(w, b, X, Y, num_iter= 10, tasa = 0.001, print_cost = False)\n",
        "\n",
        "print (\"w = \" + str(params[\"w\"]))\n",
        "print (\"b = \" + str(params[\"b\"]))\n",
        "print (\"dw = \" + str(grads[\"dw\"]))\n",
        "print (\"db = \" + str(grads[\"db\"]))"
      ],
      "execution_count": null,
      "outputs": [
        {
          "output_type": "stream",
          "text": [
            "w = [[-0.07262234]\n",
            " [ 0.02112647]]\n",
            "b = 0.49898148713402446\n",
            "dw = [[1.42076721]\n",
            " [0.43496446]]\n",
            "db = -0.007821662502973652\n"
          ],
          "name": "stdout"
        }
      ]
    },
    {
      "cell_type": "markdown",
      "metadata": {
        "id": "DFNN93Ejba_v",
        "colab_type": "text"
      },
      "source": [
        "**Salida esperada**:  \n",
        "\n",
        "<table style=\"width:40%\">\n",
        "<tr>\n",
        "<td> w </td>\n",
        "<td>[[-0.07262234]\n",
        " [ 0.02112647]] </td>\n",
        "</tr>\n",
        "<tr>\n",
        "<td> b </td>\n",
        "<td> 0.49898148713402446 </td>\n",
        "</tr>\n",
        "<tr>\n",
        "<td> dw </td>\n",
        "<td> [[1.42076721]\n",
        " [0.43496446]] </td>\n",
        "</tr>\n",
        "<tr>\n",
        "<td> db </td>\n",
        "<td> -0.007821662502973652 </td>\n",
        "</tr>\n",
        "</table>"
      ]
    },
    {
      "cell_type": "markdown",
      "metadata": {
        "id": "ypvOtSZ6ba_v",
        "colab_type": "text"
      },
      "source": [
        "### Ejercicio 2.5\n",
        "\n",
        "La función anterior aprende los parámetros w y b, que se pueden usar para predecir sobre el conjunto de datos X. \n",
        "\n",
        "Hay dos pasos para calcular las predicciones:\n",
        "\n",
        "1. Calcular $\\hat{Y} = A = \\sigma(w^T X + b)$\n",
        "\n",
        "2. Converir a 0 las entradas de $a$ (si la activación es <= 0.5) o 1 (si la activación es > 0.5), guarde las predicciones en un vector `Y_pred`.  \n",
        "\n",
        "Ahora implemente la función `pred()`. "
      ]
    },
    {
      "cell_type": "code",
      "metadata": {
        "id": "QEqNCFN2ba_v",
        "colab_type": "code",
        "colab": {}
      },
      "source": [
        "def pred(w, b, X):\n",
        "    '''\n",
        "    Prediga si una etiqueta es 0 o 1 usando los parámetros de regresión logística aprendidos (w, b)\n",
        "    Input:\n",
        "    w: pesos, un arreglo numpy \n",
        "    b: sesgo, un escalar\n",
        "    X: datos de entrada\n",
        "    Output:\n",
        "    Y_pred: vector con todas las predicciones (0/1) para los ejemplos en X\n",
        "    '''\n",
        "    \n",
        "    m = X.shape[1]\n",
        "    Y_pred = np.zeros((1,m))\n",
        "    w = w.reshape(X.shape[0], 1)\n",
        "    \n",
        "    # Compute el vector \"A\" prediciendo las probabilidades de que la imagen contenga un frailejon\n",
        "    A = sigmoide(np.dot(w.T, X) + b)\n",
        "    \n",
        "    for i in range(A.shape[1]):\n",
        "        \n",
        "        # Convierta las probabilidades A[0,i] a predicciones p[0,i]\n",
        "        Y_pred[0,i] = round(A[0,i],0)\n",
        "    \n",
        "    assert(Y_pred.shape == (1, m))\n",
        "    \n",
        "    return Y_pred"
      ],
      "execution_count": null,
      "outputs": []
    },
    {
      "cell_type": "code",
      "metadata": {
        "id": "UHgQxt3Lba_y",
        "colab_type": "code",
        "colab": {
          "base_uri": "https://localhost:8080/",
          "height": 34
        },
        "outputId": "1dce329a-d166-473f-eea3-d4325bbf6b5f"
      },
      "source": [
        "w = np.array([[0.12],[0.23]])\n",
        "b = -0.09\n",
        "X = np.array([[3.1,-2.9,0.2],[1.9,1.8,-0.09]])\n",
        "print (\"predicciones = \" + str(pred(w, b, X)))"
      ],
      "execution_count": null,
      "outputs": [
        {
          "output_type": "stream",
          "text": [
            "predicciones = [[1. 0. 0.]]\n"
          ],
          "name": "stdout"
        }
      ]
    },
    {
      "cell_type": "markdown",
      "metadata": {
        "id": "6QjDntdSba_1",
        "colab_type": "text"
      },
      "source": [
        "**Salida esperada**: \n",
        "\n",
        "<table style=\"width:40%\">\n",
        "<tr>\n",
        "<td> predicciones   </td>\n",
        "<td>[[ 1.  0.  0.]]  </td>  \n",
        "</tr>\n",
        "</table>"
      ]
    },
    {
      "cell_type": "markdown",
      "metadata": {
        "id": "6bRqOM81ba_1",
        "colab_type": "text"
      },
      "source": [
        "### Ejercicio 2.6\n",
        "#### Combine todas las funciones \n",
        "\n",
        "Ahora juntemos todos los bloques que ha programado arriba.\n",
        "\n",
        "Implemente la función del modelo \"madre\". Use la siguiente notación:\n",
        "    - YP_pred para las predicciones sobre el conjunto de prueba\n",
        "    - YE_pred para las predicciones sobre el conjunto de entrenamiento\n",
        "    - w, costes, grads para las salidas de optimiza()"
      ]
    },
    {
      "cell_type": "code",
      "metadata": {
        "id": "NZrvAxZRba_2",
        "colab_type": "code",
        "colab": {}
      },
      "source": [
        "def modelo(CE_x, CP_x, CE_y, CP_y, num_iter, tasa, print_cost):\n",
        "    \"\"\"\n",
        "    Construye el modelo de regresión logística llamando las funciones implementadas anteriormente\n",
        "    Output:\n",
        "    d: diccionario con la información sobre el modelo.\n",
        "    \"\"\"\n",
        "    \n",
        "    # Inicialice los parametros con ceros \n",
        "    w, b = inicializa_ceros(CE_x.shape[0])\n",
        "\n",
        "    # Descenso en la dirección del gradiente (GD) \n",
        "    params, grads, costes = optimiza(w, b, CE_x, CE_y, num_iter, tasa, print_cost)\n",
        "    \n",
        "    # Recupere los parámetros w y b del diccionario \"params\" ##\n",
        "    w = params[\"w\"]\n",
        "    b = params[\"b\"]\n",
        "    \n",
        "    # Prediga los ejemplos de prueba y entrenamiento (≈ 2 líneas de código)\n",
        "    YP_pred = pred(w, b, CP_x)\n",
        "    YE_pred = pred(w, b, CE_x)\n",
        "\n",
        "    # Imprima los errores de entrenamiento y prueba\n",
        "    print(\"Accuracy de entrenamiento: {} %\".format(100 - np.mean(np.abs(YE_pred - CE_y)) * 100))\n",
        "    print(\"Accuracy de prueba: {} %\".format(100 - np.mean(np.abs(YP_pred - CP_y)) * 100))\n",
        "\n",
        "    \n",
        "    d = {\"Costes\": costes,\n",
        "         \"Prediccion_prueba\": YP_pred, \n",
        "         \"Prediccion_entrenamiento\" : YE_pred, \n",
        "         \"w\" : w, \n",
        "         \"b\" : b,\n",
        "         \"Tasa de aprendizaje\" : tasa,\n",
        "         \"Numero de iteraciones\": num_iter}\n",
        "    \n",
        "    return d"
      ],
      "execution_count": null,
      "outputs": []
    },
    {
      "cell_type": "markdown",
      "metadata": {
        "id": "kimepElRba_4",
        "colab_type": "text"
      },
      "source": [
        "### Pregunta 2.7\n",
        "\n",
        "De qué dimensiones deben ser las matrices con los datos de entrada y de salida?"
      ]
    },
    {
      "cell_type": "code",
      "metadata": {
        "id": "2OHQVif2ba_5",
        "colab_type": "code",
        "colab": {
          "base_uri": "https://localhost:8080/",
          "height": 34
        },
        "outputId": "be141e41-fe9f-44c5-e449-b9be3b453421"
      },
      "source": [
        "# Podemos re-configurar las matrices de la siguiente forma:\n",
        "CE_x2 = CE_x.T\n",
        "CP_x2 = CP_x.T\n",
        "CE_y2 = np.array(CE_y)[np.newaxis]\n",
        "CP_y2 = np.array(CP_y)[np.newaxis]\n",
        "\n",
        "print(CE_x2.shape, CE_y2.shape)"
      ],
      "execution_count": null,
      "outputs": [
        {
          "output_type": "stream",
          "text": [
            "(61, 600) (1, 600)\n"
          ],
          "name": "stdout"
        }
      ]
    },
    {
      "cell_type": "markdown",
      "metadata": {
        "id": "BMifGn2Wba_8",
        "colab_type": "text"
      },
      "source": [
        "Ahora, ejecute la siguiente celda para entrenar el modelo:"
      ]
    },
    {
      "cell_type": "code",
      "metadata": {
        "id": "ltp8_ZWsba_8",
        "colab_type": "code",
        "colab": {
          "base_uri": "https://localhost:8080/",
          "height": 221
        },
        "outputId": "50d85a2b-742c-49c1-d74a-4c6227367491"
      },
      "source": [
        "d = modelo(CE_x2, CP_x2, CE_y2, CP_y2, num_iter = 1000, tasa = 1e-6, print_cost = True)"
      ],
      "execution_count": null,
      "outputs": [
        {
          "output_type": "stream",
          "text": [
            "Coste tras la iteración 0: 0.693147\n",
            "Coste tras la iteración 100: 0.678157\n",
            "Coste tras la iteración 200: 0.677031\n",
            "Coste tras la iteración 300: 0.675938\n",
            "Coste tras la iteración 400: 0.674877\n",
            "Coste tras la iteración 500: 0.673846\n",
            "Coste tras la iteración 600: 0.672844\n",
            "Coste tras la iteración 700: 0.671871\n",
            "Coste tras la iteración 800: 0.670925\n",
            "Coste tras la iteración 900: 0.670005\n",
            "Accuracy de entrenamiento: 70.0 %\n",
            "Accuracy de prueba: 70.0 %\n"
          ],
          "name": "stdout"
        }
      ]
    },
    {
      "cell_type": "markdown",
      "metadata": {
        "id": "jxyehyF8ba_-",
        "colab_type": "text"
      },
      "source": [
        "**Salida esperada**: \n",
        "\n",
        "<table style=\"width:50%\"> \n",
        "<tr>\n",
        "<td> Coste tras la iteración 0   </td> \n",
        "<td> 0.693147 </td>\n",
        "</tr>\n",
        "<tr>\n",
        "<td> <center> $\\vdots$ </center> </td> \n",
        "<td> <center> $\\vdots$ </center> </td> \n",
        "</tr>  \n",
        "<tr>\n",
        "<td> Precisión de entrenamiento  </td> \n",
        "<td> 70.0 % </td>\n",
        "</tr>\n",
        "<tr>\n",
        "<td> Precisión de prueba </td> \n",
        "<td> 70.0 % </td>\n",
        "</tr>\n",
        "</table> "
      ]
    },
    {
      "cell_type": "markdown",
      "metadata": {
        "id": "ANjSm0FZba__",
        "colab_type": "text"
      },
      "source": [
        "La precisión de entrenamiento es muy similar a la que conseguimos mediante la regresion logistica. También podemos observar que el error de prueba es igual al de entrenamiento. Este resultado sugiere que el modelo aprende segun entrenamiento, y generaliza de igual forma sobre los observaciones nuevas."
      ]
    },
    {
      "cell_type": "markdown",
      "metadata": {
        "id": "U8h_w5sgba__",
        "colab_type": "text"
      },
      "source": [
        "Grafiquemos la función de pérdida."
      ]
    },
    {
      "cell_type": "code",
      "metadata": {
        "id": "XfOsBF9YbbAA",
        "colab_type": "code",
        "colab": {
          "base_uri": "https://localhost:8080/",
          "height": 295
        },
        "outputId": "ec1cb656-1b06-4b3a-a37a-9e11ca49b09b"
      },
      "source": [
        "# Gráfica de la curva de aprendizaje (con costes)\n",
        "costes = np.squeeze(d['Costes'])\n",
        "plt.plot(costes)\n",
        "plt.ylabel('coste')\n",
        "plt.xlabel('iteraciones (en cientos)')\n",
        "plt.title(\"Tasa de aprendizaje =\" + str(d[\"Tasa de aprendizaje\"]))\n",
        "plt.show()"
      ],
      "execution_count": null,
      "outputs": [
        {
          "output_type": "display_data",
          "data": {
            "image/png": "[encoded data removed]",
            "text/plain": [
              "<Figure size 432x288 with 1 Axes>"
            ]
          },
          "metadata": {
            "tags": [],
            "needs_background": "light"
          }
        }
      ]
    },
    {
      "cell_type": "markdown",
      "metadata": {
        "id": "nlf-URdubbAC",
        "colab_type": "text"
      },
      "source": [
        "**Interpretación**:\n",
        "Se puede ver el coste decreciendo, demostrando que los parámetros están siendo aprendidos. "
      ]
    },
    {
      "cell_type": "markdown",
      "metadata": {
        "id": "vlYUyK7_bbAC",
        "colab_type": "text"
      },
      "source": [
        "Ya tenemos un primer modelo de clasificación. Ahora examinemos distintos valores para la tasa de aprendizaje $\\alpha$. \n",
        "\n",
        "#### Selección de la tasa de aprendizaje ####\n",
        "\n",
        "Para que el método del GD funcione de manera adecuada, se debe elegir la tasa de aprendiazaje de manera acertada. Esta tasa $\\alpha$  determina qué tan rápido se actualizan los parámetros. Si la tasa es muy grande se puede \"sobrepasar\" el valor óptimo. Y de manera similar, si es muy pequeña se van a necesitar muchas iteraciones para converger a los mejores valores. Por ello la importancia de tener una tase de aprensizaje bien afinada.  \n",
        "\n",
        "Ahora, comparemos la curva de aprendizaje de nuestro modelo con distintas elecciones para $\\alpha$. Ejecute el código abajo. También puede intentar con valores distintos a los tres que estamos utilizando abajo para `tasas` y analize los resultados.\n",
        "\n"
      ]
    },
    {
      "cell_type": "code",
      "metadata": {
        "id": "f9No6I36bbAD",
        "colab_type": "code",
        "colab": {
          "base_uri": "https://localhost:8080/",
          "height": 755
        },
        "outputId": "fb668915-77a2-4fc6-f48f-f7633e626951"
      },
      "source": [
        "tasas = [1e-4, 1e-6, 1e-10, 2e-20]\n",
        "modelos = {}\n",
        "for i in tasas:\n",
        "    print (\"La tasa de aprendizaje es: \" + str(i))\n",
        "    modelos[str(i)] = modelo(CE_x2, CP_x2, CE_y2, CP_y2, num_iter = 2000, tasa = i, print_cost = False)\n",
        "    print ('\\n' + \"-------------------------------------------------------\" + '\\n')\n",
        "\n",
        "for i in tasas:\n",
        "    plt.plot(np.squeeze(modelos[str(i)][\"Costes\"]), label= str(modelos[str(i)][\"Tasa de aprendizaje\"]))\n",
        "\n",
        "plt.ylabel('coste')\n",
        "plt.xlabel('iteraciones (en cientos)')\n",
        "\n",
        "legend = plt.legend(loc='upper center', shadow=True)\n",
        "frame = legend.get_frame()\n",
        "frame.set_facecolor('0.90')\n",
        "plt.show()"
      ],
      "execution_count": null,
      "outputs": [
        {
          "output_type": "stream",
          "text": [
            "La tasa de aprendizaje es: 0.0001\n"
          ],
          "name": "stdout"
        },
        {
          "output_type": "stream",
          "text": [
            "/usr/local/lib/python3.6/dist-packages/ipykernel_launcher.py:9: RuntimeWarning: overflow encountered in exp\n",
            "  if __name__ == '__main__':\n",
            "/usr/local/lib/python3.6/dist-packages/ipykernel_launcher.py:20: RuntimeWarning: divide by zero encountered in log\n",
            "/usr/local/lib/python3.6/dist-packages/ipykernel_launcher.py:20: RuntimeWarning: invalid value encountered in multiply\n"
          ],
          "name": "stderr"
        },
        {
          "output_type": "stream",
          "text": [
            "Accuracy de entrenamiento: 33.0 %\n",
            "Accuracy de prueba: 32.75 %\n",
            "\n",
            "-------------------------------------------------------\n",
            "\n",
            "La tasa de aprendizaje es: 1e-06\n",
            "Accuracy de entrenamiento: 70.0 %\n",
            "Accuracy de prueba: 70.0 %\n",
            "\n",
            "-------------------------------------------------------\n",
            "\n",
            "La tasa de aprendizaje es: 1e-10\n",
            "Accuracy de entrenamiento: 70.0 %\n",
            "Accuracy de prueba: 70.0 %\n",
            "\n",
            "-------------------------------------------------------\n",
            "\n",
            "La tasa de aprendizaje es: 2e-20\n",
            "Accuracy de entrenamiento: 70.0 %\n",
            "Accuracy de prueba: 70.0 %\n",
            "\n",
            "-------------------------------------------------------\n",
            "\n"
          ],
          "name": "stdout"
        },
        {
          "output_type": "display_data",
          "data": {
            "image/png": "[encoded data removed]",
            "text/plain": [
              "<Figure size 432x288 with 1 Axes>"
            ]
          },
          "metadata": {
            "tags": [],
            "needs_background": "light"
          }
        }
      ]
    },
    {
      "cell_type": "markdown",
      "metadata": {
        "id": "TjTRkeqsbbAG",
        "colab_type": "text"
      },
      "source": [
        "### Pregunta 2.8\n",
        "\n",
        "Analice los resultados, con cuál tasa de aprendizaje intentaría mejorar el desempeño del modelo?"
      ]
    },
    {
      "cell_type": "markdown",
      "metadata": {
        "id": "CpJvts-YlMu8",
        "colab_type": "text"
      },
      "source": [
        "Se observa que la mejor tasa de aprendizaje es 1e-6. Esto podría pasar porque el número de iteraciones es muy bajo para las tasas más pequeñas. Sin embargo, tambien es probable que las tasas de aprendizaje sean muy pequeñas y no logren llegar a al optimo por no percibir grandes cambios la función objetivo.\n",
        "\n"
      ]
    },
    {
      "cell_type": "markdown",
      "metadata": {
        "id": "UJqUME-pbbAJ",
        "colab_type": "text"
      },
      "source": [
        "## 3. Comparacion con la implementación tradicional de regresión logística"
      ]
    },
    {
      "cell_type": "markdown",
      "metadata": {
        "id": "TvRoloUubbAJ",
        "colab_type": "text"
      },
      "source": [
        "A continuación ajustamos el modelo logístico y lo probamos:"
      ]
    },
    {
      "cell_type": "code",
      "metadata": {
        "id": "8CEVpBbDbbAK",
        "colab_type": "code",
        "colab": {}
      },
      "source": [
        "logT = LogisticRegression(penalty='none', max_iter=1500)\n",
        "logT.fit(CE_x, CE_y)\n",
        "y_tr = logT.predict(CE_x)\n",
        "y_pred = logT.predict(CP_x)"
      ],
      "execution_count": null,
      "outputs": []
    },
    {
      "cell_type": "markdown",
      "metadata": {
        "id": "PH5rHk51bbAM",
        "colab_type": "text"
      },
      "source": [
        "Examinemos los coeficientes del modelo de la neurona sigmoide y su desviación con respecto a la estimación tradicional de regresion logistica."
      ]
    },
    {
      "cell_type": "code",
      "metadata": {
        "id": "PapqOJ6BbbAN",
        "colab_type": "code",
        "colab": {
          "base_uri": "https://localhost:8080/",
          "height": 519
        },
        "outputId": "d07ea75a-44ae-4bfe-8d58-8c1d00bee95d"
      },
      "source": [
        "from astropy.table import QTable, Table, Column\n",
        "\n",
        "Tabla =  Table([logT.coef_.T, d['w'], CE_x.T], names=(\"Regresion logistica\", \"Neurona sigmoide\", \"Diferencia\"))\n",
        "Tabla"
      ],
      "execution_count": null,
      "outputs": [
        {
          "output_type": "execute_result",
          "data": {
            "text/html": [
              "<i>Table length=61</i>\n",
              "<table id=\"table140156840796624\" class=\"table-striped table-bordered table-condensed\">\n",
              "<thead><tr><th>Regresion logistica [1]</th><th>Neurona sigmoide [1]</th><th>Diferencia [600]</th></tr></thead>\n",
              "<thead><tr><th>float64</th><th>float64</th><th>int64</th></tr></thead>\n",
              "<tr><td>0.022896132865997627</td><td>-6.293083905403856e-05</td><td>18 .. 15</td></tr>\n",
              "<tr><td>0.00010899827650279354</td><td>-1.631136907400603e-05</td><td>12976 .. 3029</td></tr>\n",
              "<tr><td>0.3244034132126813</td><td>-0.00015135061139790666</td><td>3 .. 2</td></tr>\n",
              "<tr><td>0.07379703610118447</td><td>-0.00016794413611101247</td><td>4 .. 2</td></tr>\n",
              "<tr><td>-0.008265241352952623</td><td>-0.0023681544427456127</td><td>38 .. 33</td></tr>\n",
              "<tr><td>0.2400698035951681</td><td>-8.574184624564529e-05</td><td>1 .. 1</td></tr>\n",
              "<tr><td>0.19145797108504312</td><td>-6.586234732681293e-05</td><td>1 .. 1</td></tr>\n",
              "<tr><td>0.5511262709951815</td><td>2.9167410750735905e-05</td><td>0 .. 0</td></tr>\n",
              "<tr><td>0.1186436507074439</td><td>8.42971128730068e-06</td><td>1 .. 0</td></tr>\n",
              "<tr><td>-0.3686183644878829</td><td>-5.488449210699085e-06</td><td>0 .. 0</td></tr>\n",
              "<tr><td>...</td><td>...</td><td>...</td></tr>\n",
              "<tr><td>-0.4465028463512348</td><td>-7.701646645973132e-05</td><td>0 .. 1</td></tr>\n",
              "<tr><td>-0.7581525894057772</td><td>3.986121808875351e-06</td><td>1 .. 0</td></tr>\n",
              "<tr><td>-0.07483717811319153</td><td>1.991680499858925e-06</td><td>0 .. 0</td></tr>\n",
              "<tr><td>-0.12903807693367303</td><td>-1.5375843769924963e-05</td><td>0 .. 0</td></tr>\n",
              "<tr><td>-0.09417833038237476</td><td>-4.5352990748194025e-05</td><td>0 .. 1</td></tr>\n",
              "<tr><td>-0.4248704985180795</td><td>-7.254015435877613e-07</td><td>1 .. 0</td></tr>\n",
              "<tr><td>-0.21158903201378262</td><td>-2.70263683647599e-05</td><td>0 .. 1</td></tr>\n",
              "<tr><td>-0.5113350519409068</td><td>-3.2436187197088e-05</td><td>1 .. 0</td></tr>\n",
              "<tr><td>0.355004333231315</td><td>-4.6792409931105244e-05</td><td>1 .. 1</td></tr>\n",
              "<tr><td>-1.077928417176585</td><td>-1.2670145630742544e-05</td><td>0 .. 0</td></tr>\n",
              "</table>"
            ],
            "text/plain": [
              "<Table length=61>\n",
              "Regresion logistica [1]   Neurona sigmoide [1]  Diferencia [600]\n",
              "        float64                 float64              int64      \n",
              "----------------------- ----------------------- ----------------\n",
              "   0.022896132865997627  -6.293083905403856e-05         18 .. 15\n",
              " 0.00010899827650279354  -1.631136907400603e-05    12976 .. 3029\n",
              "     0.3244034132126813 -0.00015135061139790666           3 .. 2\n",
              "    0.07379703610118447 -0.00016794413611101247           4 .. 2\n",
              "  -0.008265241352952623  -0.0023681544427456127         38 .. 33\n",
              "     0.2400698035951681  -8.574184624564529e-05           1 .. 1\n",
              "    0.19145797108504312  -6.586234732681293e-05           1 .. 1\n",
              "     0.5511262709951815  2.9167410750735905e-05           0 .. 0\n",
              "     0.1186436507074439    8.42971128730068e-06           1 .. 0\n",
              "    -0.3686183644878829  -5.488449210699085e-06           0 .. 0\n",
              "                    ...                     ...              ...\n",
              "    -0.4465028463512348  -7.701646645973132e-05           0 .. 1\n",
              "    -0.7581525894057772   3.986121808875351e-06           1 .. 0\n",
              "   -0.07483717811319153   1.991680499858925e-06           0 .. 0\n",
              "   -0.12903807693367303 -1.5375843769924963e-05           0 .. 0\n",
              "   -0.09417833038237476 -4.5352990748194025e-05           0 .. 1\n",
              "    -0.4248704985180795  -7.254015435877613e-07           1 .. 0\n",
              "   -0.21158903201378262   -2.70263683647599e-05           0 .. 1\n",
              "    -0.5113350519409068    -3.2436187197088e-05           1 .. 0\n",
              "      0.355004333231315 -4.6792409931105244e-05           1 .. 1\n",
              "     -1.077928417176585 -1.2670145630742544e-05           0 .. 0"
            ]
          },
          "metadata": {
            "tags": []
          },
          "execution_count": 40
        }
      ]
    },
    {
      "cell_type": "markdown",
      "metadata": {
        "id": "JLpU3SgsbbAP",
        "colab_type": "text"
      },
      "source": [
        "### Pregunta 3.1\n",
        "\n",
        "Qué puede observar en esta comparativa?"
      ]
    },
    {
      "cell_type": "markdown",
      "metadata": {
        "id": "rQSI16odbbAQ",
        "colab_type": "text"
      },
      "source": [
        "#### Se puede observar que hay bastantes diferencias entre los dos modelos y sus coeficientes. "
      ]
    },
    {
      "cell_type": "markdown",
      "metadata": {
        "id": "k-IdYvE6bbAQ",
        "colab_type": "text"
      },
      "source": [
        "Veamos la exactitud de los modelos"
      ]
    },
    {
      "cell_type": "code",
      "metadata": {
        "id": "CTMsP3wFbbAQ",
        "colab_type": "code",
        "colab": {
          "base_uri": "https://localhost:8080/",
          "height": 51
        },
        "outputId": "85a875fc-9e5f-4621-dc05-628f2b088414"
      },
      "source": [
        "print(\"La neurona sigmoide tiene una exactitud de entrenamiento: \" \n",
        "      +str(float((d['Prediccion_entrenamiento'] == CE_y2).mean())) +\" y de validacion: \" +str(float((d['Prediccion_prueba'] == CP_y2).mean())))\n",
        "print(\"La regresion tradicional tiene una exactitud de entrenamiento: \" \n",
        "      +str(float((y_tr == CE_y).mean())) +\" y de validacion: \" +str(float((y_pred == CP_y).mean())))"
      ],
      "execution_count": null,
      "outputs": [
        {
          "output_type": "stream",
          "text": [
            "La neurona sigmoide tiene una exactitud de entrenamiento: 0.7 y de validacion: 0.7\n",
            "La regresion tradicional tiene una exactitud de entrenamiento: 0.785 y de validacion: 0.7575\n"
          ],
          "name": "stdout"
        }
      ]
    },
    {
      "cell_type": "markdown",
      "metadata": {
        "id": "3zUqdaU6bbAT",
        "colab_type": "text"
      },
      "source": [
        "### Ejercicio  3.2\n",
        "\n",
        "Ahora puede desarrollar su propio código intentando mejorar los resultados obtenidos. \n",
        "\n",
        "Intente sobrepasar los resultados de la regresion logistica tradicional. Optimice la tasa de aprendizaje, el número de iteraciones o (bono) investigue y cambie la manera en la cual inicializamos los coeficientes. "
      ]
    },
    {
      "cell_type": "code",
      "metadata": {
        "id": "IJ5h_aIabbAT",
        "colab_type": "code",
        "colab": {
          "base_uri": "https://localhost:8080/",
          "height": 687
        },
        "outputId": "988258fe-99e5-4454-a859-679df8f0170d"
      },
      "source": [
        "itera = [1000, 2500, 4500, 5000]\n",
        "modelos = {}\n",
        "for i in itera:\n",
        "    print (\"Numero de iteraciones es: \" + str(i))\n",
        "    modelos[str(i)] = modelo(CE_x2, CP_x2, CE_y2, CP_y2, num_iter = i, tasa = 1e-6, print_cost = False)\n",
        "    print ('\\n' + \"-------------------------------------------------------\" + '\\n')\n",
        "\n",
        "for i in itera:\n",
        "    plt.plot(np.squeeze(modelos[str(i)][\"Costes\"]), label= str(modelos[str(i)][\"Numero de iteraciones\"]))\n",
        "\n",
        "plt.ylabel('coste')\n",
        "plt.xlabel('iteraciones (en cientos)')\n",
        "\n",
        "legend = plt.legend(loc='upper center', shadow=True)\n",
        "frame = legend.get_frame()\n",
        "frame.set_facecolor('0.90')\n",
        "plt.show()"
      ],
      "execution_count": null,
      "outputs": [
        {
          "output_type": "stream",
          "text": [
            "Numero de iteraciones es: 1000\n",
            "Accuracy de entrenamiento: 70.0 %\n",
            "Accuracy de prueba: 70.0 %\n",
            "\n",
            "-------------------------------------------------------\n",
            "\n",
            "Numero de iteraciones es: 2500\n",
            "Accuracy de entrenamiento: 70.0 %\n",
            "Accuracy de prueba: 70.0 %\n",
            "\n",
            "-------------------------------------------------------\n",
            "\n",
            "Numero de iteraciones es: 4500\n",
            "Accuracy de entrenamiento: 70.16666666666666 %\n",
            "Accuracy de prueba: 72.75 %\n",
            "\n",
            "-------------------------------------------------------\n",
            "\n",
            "Numero de iteraciones es: 5000\n",
            "Accuracy de entrenamiento: 70.33333333333333 %\n",
            "Accuracy de prueba: 71.75 %\n",
            "\n",
            "-------------------------------------------------------\n",
            "\n"
          ],
          "name": "stdout"
        },
        {
          "output_type": "display_data",
          "data": {
            "image/png": "[encoded data removed]",
            "text/plain": [
              "<Figure size 432x288 with 1 Axes>"
            ]
          },
          "metadata": {
            "tags": [],
            "needs_background": "light"
          }
        }
      ]
    },
    {
      "cell_type": "markdown",
      "metadata": {
        "id": "X1wZR9SBe8uz",
        "colab_type": "text"
      },
      "source": [
        "Cambiando el número de iteraciones se logró mejorar el accuracy de la red, pero sigue sin tener mejores resultados que la regresion logistica. Intentaremos inicializando los w con valores aleatorios. "
      ]
    },
    {
      "cell_type": "code",
      "metadata": {
        "id": "tG19WD1me7-2",
        "colab_type": "code",
        "colab": {}
      },
      "source": [
        "def inicializa_rand(dim):\n",
        "    \"\"\"\n",
        "    Esta función crea un vector de ceros de dimensión (dim, 1) para w e inicializa b a 0.\n",
        "    Input:\n",
        "    dim: tamaño del vector w (número de parámetros para este caso)\n",
        "    Output:\n",
        "    w: vector inicializado de tamaño (dim, 1)\n",
        "    b: escalar inicializado (corresponde con el sesgo)\n",
        "    \"\"\"\n",
        "    \n",
        "    np.random.seed(2) # we set up a seed so that your output matches ours although the initialization is random.\n",
        "    w = np.random.randn(dim,1)\n",
        "    b = 0\n",
        "\n",
        "    assert(w.shape == (dim, 1))\n",
        "    assert(isinstance(b, float) or isinstance(b, int))\n",
        "    \n",
        "    return w, b"
      ],
      "execution_count": null,
      "outputs": []
    },
    {
      "cell_type": "code",
      "metadata": {
        "id": "9aRwrsERfgDT",
        "colab_type": "code",
        "colab": {
          "base_uri": "https://localhost:8080/",
          "height": 136
        },
        "outputId": "c93c58fa-fa65-4dd4-e61f-a0699c057613"
      },
      "source": [
        "dim = 6\n",
        "w, b = inicializa_rand(dim)\n",
        "print (\"w = \" + str(w))\n",
        "print (\"b = \" + str(b))"
      ],
      "execution_count": null,
      "outputs": [
        {
          "output_type": "stream",
          "text": [
            "w = [[-0.41675785]\n",
            " [-0.05626683]\n",
            " [-2.1361961 ]\n",
            " [ 1.64027081]\n",
            " [-1.79343559]\n",
            " [-0.84174737]]\n",
            "b = 0\n"
          ],
          "name": "stdout"
        }
      ]
    },
    {
      "cell_type": "code",
      "metadata": {
        "id": "Z4H7V819f52r",
        "colab_type": "code",
        "colab": {}
      },
      "source": [
        "def modelo2(CE_x, CP_x, CE_y, CP_y, num_iter, tasa, print_cost):\n",
        "    \"\"\"\n",
        "    Construye el modelo de regresión logística llamando las funciones implementadas anteriormente\n",
        "    Output:\n",
        "    d: diccionario con la información sobre el modelo.\n",
        "    \"\"\"\n",
        "    \n",
        "    # Inicialice los parametros con ceros \n",
        "    w, b = inicializa_rand(CE_x.shape[0])\n",
        "\n",
        "    # Descenso en la dirección del gradiente (GD) \n",
        "    params, grads, costes = optimiza(w, b, CE_x, CE_y, num_iter, tasa, print_cost)\n",
        "    \n",
        "    # Recupere los parámetros w y b del diccionario \"params\" ##\n",
        "    w = params[\"w\"]\n",
        "    b = params[\"b\"]\n",
        "    \n",
        "    # Prediga los ejemplos de prueba y entrenamiento (≈ 2 líneas de código)\n",
        "    YP_pred = pred(w, b, CP_x)\n",
        "    YE_pred = pred(w, b, CE_x)\n",
        "\n",
        "    # Imprima los errores de entrenamiento y prueba\n",
        "    print(\"Accuracy de entrenamiento: {} %\".format(100 - np.mean(np.abs(YE_pred - CE_y)) * 100))\n",
        "    print(\"Accuracy de prueba: {} %\".format(100 - np.mean(np.abs(YP_pred - CP_y)) * 100))\n",
        "\n",
        "    \n",
        "    d = {\"Costes\": costes,\n",
        "         \"Prediccion_prueba\": YP_pred, \n",
        "         \"Prediccion_entrenamiento\" : YE_pred, \n",
        "         \"w\" : w, \n",
        "         \"b\" : b,\n",
        "         \"Tasa de aprendizaje\" : tasa,\n",
        "         \"Numero de iteraciones\": num_iter}\n",
        "    \n",
        "    return d"
      ],
      "execution_count": null,
      "outputs": []
    },
    {
      "cell_type": "code",
      "metadata": {
        "id": "uVwPeqgrf9Ab",
        "colab_type": "code",
        "colab": {
          "base_uri": "https://localhost:8080/",
          "height": 493
        },
        "outputId": "86e5250c-6c0d-48b5-bae6-9b82d12b76b3"
      },
      "source": [
        "tasas = [1e-4, 1e-6, 1e-10, 2e-20]\n",
        "modelos = {}\n",
        "for i in tasas:\n",
        "    print (\"La tasa de aprendizaje es: \" + str(i))\n",
        "    modelos[str(i)] = modelo2(CE_x2, CP_x2, CE_y2, CP_y2, num_iter = 4500, tasa = i, print_cost = False)\n",
        "    print ('\\n' + \"-------------------------------------------------------\" + '\\n')"
      ],
      "execution_count": null,
      "outputs": [
        {
          "output_type": "stream",
          "text": [
            "La tasa de aprendizaje es: 0.0001\n"
          ],
          "name": "stdout"
        },
        {
          "output_type": "stream",
          "text": [
            "/usr/local/lib/python3.6/dist-packages/ipykernel_launcher.py:9: RuntimeWarning: overflow encountered in exp\n",
            "  if __name__ == '__main__':\n",
            "/usr/local/lib/python3.6/dist-packages/ipykernel_launcher.py:20: RuntimeWarning: divide by zero encountered in log\n",
            "/usr/local/lib/python3.6/dist-packages/ipykernel_launcher.py:20: RuntimeWarning: invalid value encountered in multiply\n"
          ],
          "name": "stderr"
        },
        {
          "output_type": "stream",
          "text": [
            "Accuracy de entrenamiento: 69.83333333333333 %\n",
            "Accuracy de prueba: 70.75 %\n",
            "\n",
            "-------------------------------------------------------\n",
            "\n",
            "La tasa de aprendizaje es: 1e-06\n",
            "Accuracy de entrenamiento: 66.66666666666667 %\n",
            "Accuracy de prueba: 68.75 %\n",
            "\n",
            "-------------------------------------------------------\n",
            "\n",
            "La tasa de aprendizaje es: 1e-10\n",
            "Accuracy de entrenamiento: 70.0 %\n",
            "Accuracy de prueba: 70.0 %\n",
            "\n",
            "-------------------------------------------------------\n",
            "\n",
            "La tasa de aprendizaje es: 2e-20\n",
            "Accuracy de entrenamiento: 70.0 %\n",
            "Accuracy de prueba: 70.0 %\n",
            "\n",
            "-------------------------------------------------------\n",
            "\n"
          ],
          "name": "stdout"
        }
      ]
    },
    {
      "cell_type": "markdown",
      "metadata": {
        "id": "Isv5Zqh7jbiE",
        "colab_type": "text"
      },
      "source": [
        "Al cambiar la inicialización por un random no observamos mejoras. Esto puede pasar porque la funcion sigmoide tiene sus limites, y terner solo una hidden layer no permite predicciones más acertadas por parte de la red. Para mejorar los resulatdos se podría intentar con otras funciones de activación (tanh o ReLu) y/o agregar mas hidden layers a la red.\n"
      ]
    },
    {
      "cell_type": "code",
      "metadata": {
        "id": "mn--SFDVjbPu",
        "colab_type": "code",
        "colab": {}
      },
      "source": [
        ""
      ],
      "execution_count": null,
      "outputs": []
    }
  ]
}